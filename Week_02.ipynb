{
 "cells": [
  {
   "cell_type": "markdown",
   "metadata": {},
   "source": [
    "# Cooments & Basic Data Types"
   ]
  },
  {
   "cell_type": "markdown",
   "metadata": {},
   "source": [
    "## Cooments"
   ]
  },
  {
   "cell_type": "code",
   "execution_count": 1,
   "metadata": {
    "scrolled": true
   },
   "outputs": [
    {
     "name": "stdout",
     "output_type": "stream",
     "text": [
      "Hello\n"
     ]
    }
   ],
   "source": [
    "\"\"\"\n",
    "This is multi-line comment\n",
    "\"\"\"\n",
    "print(\"Hello\") # this is also comment"
   ]
  },
  {
   "cell_type": "markdown",
   "metadata": {},
   "source": [
    "## Data types"
   ]
  },
  {
   "cell_type": "code",
   "execution_count": 5,
   "metadata": {},
   "outputs": [
    {
     "name": "stdout",
     "output_type": "stream",
     "text": [
      " \n",
      "10\n",
      "10.4\n",
      "There's a snake in my boot!\n",
      "False\n",
      "10\n",
      "True\n"
     ]
    },
    {
     "data": {
      "text/plain": [
       "int"
      ]
     },
     "execution_count": 5,
     "metadata": {},
     "output_type": "execute_result"
    }
   ],
   "source": [
    "print(\" \")\n",
    "print(10)\n",
    "print(10.4)\n",
    "print(\"There's a snake in my boot!\")\n",
    "print(False)\n",
    "print(\"10\")\n",
    "print(\"True\")\n",
    "type(10)"
   ]
  },
  {
   "cell_type": "markdown",
   "metadata": {},
   "source": [
    "## Variables"
   ]
  },
  {
   "cell_type": "code",
   "execution_count": 6,
   "metadata": {},
   "outputs": [
    {
     "name": "stdout",
     "output_type": "stream",
     "text": [
      "5 8.4\n",
      "John Smith 9\n"
     ]
    }
   ],
   "source": [
    "num1 = 5\n",
    "num2 = 8.4\n",
    "print(num1, num2)\n",
    "name = 'John Smith'\n",
    "fav_number = '9'\n",
    "print(name, fav_number)"
   ]
  },
  {
   "cell_type": "code",
   "execution_count": 7,
   "metadata": {},
   "outputs": [
    {
     "name": "stdout",
     "output_type": "stream",
     "text": [
      "13.4\n"
     ]
    }
   ],
   "source": [
    "# using two variables to create another variable\n",
    "result = num1 + num2\n",
    "print(result)"
   ]
  },
  {
   "cell_type": "code",
   "execution_count": 8,
   "metadata": {},
   "outputs": [
    {
     "name": "stdout",
     "output_type": "stream",
     "text": [
      "14.4\n",
      "72.0\n"
     ]
    }
   ],
   "source": [
    "# adding, deleting, multiplying, dividing from a variable\n",
    "result += 1 # same as saying result = result + 1\n",
    "print(result)\n",
    "result *= num1 # same as saying result = result * num1\n",
    "print(result)"
   ]
  },
  {
   "cell_type": "code",
   "execution_count": 10,
   "metadata": {},
   "outputs": [
    {
     "name": "stdout",
     "output_type": "stream",
     "text": [
      "3 * 10 = 30\n",
      "Area of rectangle is 3354.0764\n"
     ]
    }
   ],
   "source": [
    "# exercises\n",
    "x = 3\n",
    "y = 10\n",
    "result = x * y\n",
    "print(x, \"*\", y, \"=\", result)\n",
    "\n",
    "height = 245.54\n",
    "width = 13.66\n",
    "area = height * width\n",
    "print(\"Area of rectangle is\", area)"
   ]
  },
  {
   "cell_type": "markdown",
   "metadata": {},
   "source": [
    "## Working with strings"
   ]
  },
  {
   "cell_type": "code",
   "execution_count": 12,
   "metadata": {},
   "outputs": [
    {
     "name": "stdout",
     "output_type": "stream",
     "text": [
      "John Smith\n"
     ]
    }
   ],
   "source": [
    "# using the addition operator with variables\n",
    "first_name = \"John\"\n",
    "last_name = \"Smith\"\n",
    "full_name = first_name + \" \" + last_name\n",
    "print(full_name)"
   ]
  },
  {
   "cell_type": "code",
   "execution_count": 14,
   "metadata": {},
   "outputs": [
    {
     "name": "stdout",
     "output_type": "stream",
     "text": [
      "Hello John\n",
      "Hello John, you are 28 years old!\n"
     ]
    }
   ],
   "source": [
    "# injecting variables using the format method\n",
    "name = \"John\"\n",
    "print( \"Hello {}\".format(name) )\n",
    "print( \"Hello {}, you are {} years old!\".format(name, 28) )"
   ]
  },
  {
   "cell_type": "code",
   "execution_count": 15,
   "metadata": {},
   "outputs": [
    {
     "name": "stdout",
     "output_type": "stream",
     "text": [
      "Hello John\n"
     ]
    }
   ],
   "source": [
    "# using the new f strings\n",
    "name = \"John\"\n",
    "print( f\"Hello {name}\" )"
   ]
  },
  {
   "cell_type": "code",
   "execution_count": 16,
   "metadata": {},
   "outputs": [
    {
     "name": "stdout",
     "output_type": "stream",
     "text": [
      "H\n",
      "e\n",
      "o\n"
     ]
    }
   ],
   "source": [
    "# using indexes to print each element\n",
    "word = \"Hello\"\n",
    "print( word[ 0 ] )\n",
    "print( word[ 1 ] )\n",
    "print( word[ -1 ] )"
   ]
  },
  {
   "cell_type": "code",
   "execution_count": 17,
   "metadata": {},
   "outputs": [
    {
     "name": "stdout",
     "output_type": "stream",
     "text": [
      "He\n",
      "Hlo\n"
     ]
    }
   ],
   "source": [
    "# slicing\n",
    "print( word[ 0 : 2 ] )\n",
    "print( word[ 0 : 5 : 2 ] ) # 3-th - steps"
   ]
  },
  {
   "cell_type": "code",
   "execution_count": 26,
   "metadata": {},
   "outputs": [
    {
     "name": "stdout",
     "output_type": "stream",
     "text": [
      "Hello 23, get 4.5 and go False, please, John\n",
      "Iskander's favourite sports is pumping.\n"
     ]
    }
   ],
   "source": [
    "# exercises\n",
    "print(f\"Hello {23}, get {4.5} and go {False}, please, {name}\")\n",
    "my_name = \"Iskander\"\n",
    "activity = \"pumping\"\n",
    "print(f\"{my_name}'s favourite sports is {activity}.\")"
   ]
  },
  {
   "cell_type": "markdown",
   "metadata": {},
   "source": [
    "## Maniulating strings"
   ]
  },
  {
   "cell_type": "code",
   "execution_count": 30,
   "metadata": {},
   "outputs": [
    {
     "name": "stdout",
     "output_type": "stream",
     "text": [
      "John Smith\n",
      "JOHN SMITH\n",
      "john smith\n"
     ]
    }
   ],
   "source": [
    "# using the title method to capitalize a string\n",
    "name = \"john smITh\"\n",
    "print( name.title( ) )\n",
    "print( name.upper( ) )\n",
    "print( name.lower( ) )"
   ]
  },
  {
   "cell_type": "code",
   "execution_count": 31,
   "metadata": {},
   "outputs": [
    {
     "name": "stdout",
     "output_type": "stream",
     "text": [
      "Hello there.\n"
     ]
    }
   ],
   "source": [
    "# replacing an exclamation point with a period\n",
    "words = \"Hello there!\"\n",
    "print( words.replace( \"!\", \".\" ) )"
   ]
  },
  {
   "cell_type": "code",
   "execution_count": 32,
   "metadata": {},
   "outputs": [
    {
     "name": "stdout",
     "output_type": "stream",
     "text": [
      "5\n"
     ]
    }
   ],
   "source": [
    "# finding the starting index of our searched term\n",
    "s = \"Look over that way\"\n",
    "print( s.find(\"over\") )"
   ]
  },
  {
   "cell_type": "code",
   "execution_count": 36,
   "metadata": {},
   "outputs": [
    {
     "name": "stdout",
     "output_type": "stream",
     "text": [
      "john\n"
     ]
    }
   ],
   "source": [
    "# removing white space with strip\n",
    "name = \" john \"\n",
    "print( name.strip( ) ) # lstrip(left) and rstrip is also work"
   ]
  },
  {
   "cell_type": "code",
   "execution_count": 40,
   "metadata": {},
   "outputs": [
    {
     "name": "stdout",
     "output_type": "stream",
     "text": [
      "['These', 'words', 'are', 'separated', 'by', 'spaces']\n",
      "separated\n"
     ]
    }
   ],
   "source": [
    "# converting a string into a list of words\n",
    "s = \"These words are separated by spaces\"\n",
    "print( s.split(\" \") )\n",
    "print( s.split(\" \")[3] )"
   ]
  },
  {
   "cell_type": "code",
   "execution_count": 42,
   "metadata": {},
   "outputs": [
    {
     "name": "stdout",
     "output_type": "stream",
     "text": [
      "Help on built-in function strip:\n",
      "\n",
      "strip(chars=None, /) method of builtins.str instance\n",
      "    Return a copy of the string with leading and trailing whitespace removed.\n",
      "    \n",
      "    If chars is given and not None, remove characters in chars instead.\n",
      "\n"
     ]
    }
   ],
   "source": [
    "help(\"\".strip)"
   ]
  },
  {
   "cell_type": "code",
   "execution_count": 46,
   "metadata": {},
   "outputs": [
    {
     "name": "stdout",
     "output_type": "stream",
     "text": [
      "UPPERCASE\n",
      "John Smith\n"
     ]
    }
   ],
   "source": [
    "#exercises\n",
    "print(\"uppercase\".upper())\n",
    "print(\"$$John Smith\".strip(\"$\"))"
   ]
  },
  {
   "cell_type": "markdown",
   "metadata": {},
   "source": [
    "## Friday Project: Printing Receipts"
   ]
  },
  {
   "cell_type": "code",
   "execution_count": 2,
   "metadata": {},
   "outputs": [],
   "source": [
    "# create  a product and price for three items\n",
    "p1_name, p1_price = \"Books\", 49.95\n",
    "p2_name, p2_price = \"Computer\", 579.99\n",
    "p3_name, p3_price = \"Monitor\", 124.89\n",
    "\n",
    "# create a company name and information\n",
    "company_name = \"coding temple, inc.\"\n",
    "company_address = \"283 Franklin St.\"\n",
    "company_city = \"Boston, MA\"\n",
    "\n",
    "# declare ending message\n",
    "message = \"Thanks for shopping with us today!\""
   ]
  },
  {
   "cell_type": "code",
   "execution_count": 11,
   "metadata": {},
   "outputs": [
    {
     "name": "stdout",
     "output_type": "stream",
     "text": [
      "*************************************************\n",
      "*\t\tCoding Temple, Inc.\t\t*\n",
      "*\t\t283 Franklin St.\t\t*\n",
      "*\t\tBoston, MA\t\t\t*\n",
      "=================================================\n",
      "*\tProduct Name\tProduct Price\t\t*\n",
      "*\tBooks\t\t$49.95\t\t\t*\n",
      "*\tComputer\t$579.99\t\t\t*\n",
      "*\tMonitor\t\t$124.89\t\t\t*\n",
      "=================================================\n",
      "*\t\tTotal\t\t\t\t*\n",
      "*\t\t$754.83\t\t\t\t*\n",
      "=================================================\n",
      "*\t\t\t\t\t\t*\n",
      "*\tThanks for shopping with us today!\t*\n",
      "*\t\t\t\t\t\t*\n",
      "*************************************************\n"
     ]
    }
   ],
   "source": [
    "# create a top border\n",
    "print( \"*\" * 49 )\n",
    "\n",
    "# print company information first, using format\n",
    "print(f\"*\\t\\t{company_name.title( )}\\t\\t*\")\n",
    "print(f\"*\\t\\t{company_address}\\t\\t*\")\n",
    "print(f\"*\\t\\t{company_city}\\t\\t\\t*\")\n",
    "\n",
    "# print a line between sections\n",
    "print( \"=\" * 49 )\n",
    "\n",
    "# print out header for section of items\n",
    "print(\"*\\tProduct Name\\tProduct Price\\t\\t*\")\n",
    "\n",
    "# create a print statement for each product\n",
    "print(f\"*\\t{p1_name.title( )}\\t\\t${p1_price}\\t\\t\\t*\")\n",
    "print(f\"*\\t{p2_name.title( )}\\t${p2_price}\\t\\t\\t*\")\n",
    "print(f\"*\\t{p3_name.title( )}\\t\\t${p3_price}\\t\\t\\t*\")\n",
    "\n",
    "# print a line between sections\n",
    "print( \"=\" * 49 )\n",
    "\n",
    "# print out header for section of total\n",
    "print(\"*\\t\\tTotal\\t\\t\\t\\t*\")\n",
    "\n",
    "# calculate total price and print out\n",
    "total = p1_price + p2_price + p3_price\n",
    "print(f\"*\\t\\t${total}\\t\\t\\t\\t*\")\n",
    "\n",
    "# print a line between sections\n",
    "print( \"=\" * 49 )\n",
    "\n",
    "# output thank you message\n",
    "print(f\"*\\t\\t\\t\\t\\t\\t*\\n*\\t{message}\\t*\\n*\\t\\t\\t\\t\\t\\t*\")\n",
    "\n",
    "# create a bottom border\n",
    "print( \"*\" * 49 )"
   ]
  },
  {
   "cell_type": "code",
   "execution_count": 2,
   "metadata": {},
   "outputs": [
    {
     "name": "stdout",
     "output_type": "stream",
     "text": [
      "olleH\n"
     ]
    }
   ],
   "source": [
    "# exercises\n",
    "variable = \"Hello\"\n",
    "print(variable[ -1 : : -1 ])"
   ]
  },
  {
   "cell_type": "code",
   "execution_count": 6,
   "metadata": {},
   "outputs": [],
   "source": [
    "lists = []\n",
    "if type(lists) == \"list\":\n",
    "    print(\"Hi\")"
   ]
  }
 ],
 "metadata": {
  "kernelspec": {
   "display_name": "Python 3",
   "language": "python",
   "name": "python3"
  },
  "language_info": {
   "codemirror_mode": {
    "name": "ipython",
    "version": 3
   },
   "file_extension": ".py",
   "mimetype": "text/x-python",
   "name": "python",
   "nbconvert_exporter": "python",
   "pygments_lexer": "ipython3",
   "version": "3.8.5"
  }
 },
 "nbformat": 4,
 "nbformat_minor": 4
}
