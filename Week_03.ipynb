{
 "cells": [
  {
   "cell_type": "markdown",
   "metadata": {},
   "source": [
    "# User Input & Type Converting"
   ]
  },
  {
   "cell_type": "code",
   "execution_count": 1,
   "metadata": {},
   "outputs": [
    {
     "name": "stdout",
     "output_type": "stream",
     "text": [
      "What is your name&Iskander\n",
      "Iskander\n"
     ]
    }
   ],
   "source": [
    "# accepting abd outputting user input\n",
    "print(input(\"What is your name? \"))"
   ]
  },
  {
   "cell_type": "code",
   "execution_count": 2,
   "metadata": {},
   "outputs": [
    {
     "name": "stdout",
     "output_type": "stream",
     "text": [
      "What is your name? Iskander\n",
      "Hello Iskander!\n"
     ]
    }
   ],
   "source": [
    "# saving what the user inputs\n",
    "ans = input(\"What is your name? \")\n",
    "print(\"Hello {}!\".format(ans) )"
   ]
  },
  {
   "cell_type": "code",
   "execution_count": 3,
   "metadata": {},
   "outputs": [
    {
     "name": "stdout",
     "output_type": "stream",
     "text": [
      "<class 'int'>\n"
     ]
    }
   ],
   "source": [
    "# how to check the data type of a variable\n",
    "num = 5\n",
    "print( type(num) )"
   ]
  },
  {
   "cell_type": "code",
   "execution_count": 4,
   "metadata": {},
   "outputs": [
    {
     "name": "stdout",
     "output_type": "stream",
     "text": [
      "<class 'int'>\n"
     ]
    }
   ],
   "source": [
    "# converting a variable from one data type to another\n",
    "num = \"9\"\n",
    "num = int(num) # re-declaring num to store an integer\n",
    "print( type(num) ) # checking type to make sure conversion worked"
   ]
  },
  {
   "cell_type": "code",
   "execution_count": 2,
   "metadata": {},
   "outputs": [
    {
     "name": "stdout",
     "output_type": "stream",
     "text": [
      "Type a number to add: 679\n",
      "<class 'str'>\n",
      "100 + 679 = 779\n"
     ]
    }
   ],
   "source": [
    "# working with user input to perform calculations\n",
    "ans = input(\"Type a number to add: \")\n",
    "print( type(ans) ) # default type is string, must convert\n",
    "result = 100 + int(ans)\n",
    "print( f\"100 + {ans} = {result}\")"
   ]
  },
  {
   "cell_type": "code",
   "execution_count": 4,
   "metadata": {},
   "outputs": [
    {
     "name": "stdout",
     "output_type": "stream",
     "text": [
      "Type a number to add: sdgsdg\n",
      "You did not put in a valid number!\n",
      "The program did not break!\n"
     ]
    }
   ],
   "source": [
    "# using the try and exept blocks? use tab to undent where necessary\n",
    "try:\n",
    "    ans = float(input(\"Type a number to add: \"))\n",
    "    print(f\"100 + {ans} = {100 + ans}\")\n",
    "except:\n",
    "    print(\"You did not put in a valid number!\")\n",
    "    print(\"The program did not break!\")"
   ]
  },
  {
   "cell_type": "code",
   "execution_count": 14,
   "metadata": {},
   "outputs": [
    {
     "name": "stdout",
     "output_type": "stream",
     "text": [
      "<class 'bool'>\n",
      "1\n",
      "Type first number: 234\n",
      "Type second number: sdg\n",
      "You did not put in a valid numbers!\n",
      "Type year: 3228\n",
      "Type make: lada\n",
      "Type model: kalina\n",
      "Type color: poop\n",
      "3228 Poop Lada Kalina\n"
     ]
    }
   ],
   "source": [
    "# esercises\n",
    "str = \"True\"\n",
    "print(type(bool(str)))\n",
    "print(int(bool(str)))\n",
    "\n",
    "try:\n",
    "    num1 = input(\"Type first number: \")\n",
    "    num2 = input(\"Type second number: \")\n",
    "    ans = int(num1) + int(num2)\n",
    "    print(f\"{num1} + {num2} = {ans}\")\n",
    "except:\n",
    "    print(\"You did not put in a valid numbers!\")\n",
    "\n",
    "try:\n",
    "    year = input(\"Type year: \")\n",
    "    make = input(\"Type make: \")\n",
    "    model = input(\"Type model: \")\n",
    "    color = input(\"Type color: \")\n",
    "    print(f\"{year} {color.title()} {make.title()} {model.title()}\")\n",
    "except:\n",
    "    print(\"You did not put in a valid inputs!\")\n",
    "    print(\"The program did not break!\")"
   ]
  },
  {
   "cell_type": "markdown",
   "metadata": {},
   "source": [
    "## If Statement"
   ]
  },
  {
   "cell_type": "code",
   "execution_count": 16,
   "metadata": {},
   "outputs": [
    {
     "name": "stdout",
     "output_type": "stream",
     "text": [
      "x is less than y\n"
     ]
    }
   ],
   "source": [
    "# using an if statement to only run code if the condition is met\n",
    "x, y = 5, 10\n",
    "if x < y:\n",
    "    print(\"x is less than y\")"
   ]
  },
  {
   "cell_type": "code",
   "execution_count": 18,
   "metadata": {},
   "outputs": [
    {
     "name": "stdout",
     "output_type": "stream",
     "text": [
      "Both statements were true\n"
     ]
    }
   ],
   "source": [
    "# using the keyword 'and' in an 'if statement'\n",
    "x, y, z = 5, 10, 5\n",
    "\n",
    "if x < y and x == z:\n",
    "    print(\"Both statements were true\")"
   ]
  },
  {
   "cell_type": "code",
   "execution_count": 19,
   "metadata": {},
   "outputs": [
    {
     "name": "stdout",
     "output_type": "stream",
     "text": [
      "Flag is False\n"
     ]
    }
   ],
   "source": [
    "# using the keyword 'not' within an 'if statement'\n",
    "flag = False\n",
    "if not flag: # same as saying if not true\n",
    "    print(\"Flag is False\")"
   ]
  },
  {
   "cell_type": "code",
   "execution_count": 22,
   "metadata": {},
   "outputs": [
    {
     "name": "stdout",
     "output_type": "stream",
     "text": [
      "Baseball contains the character b\n",
      "Baseball does not contain the character x\n"
     ]
    }
   ],
   "source": [
    "# using the keyword 'in' within an 'if statement'\n",
    "word = \"Baseball\"\n",
    "if \"b\" in word:\n",
    "    print( f\"{word} contains the character b\")\n",
    "# using the keyword 'not in' within an 'if statement'\n",
    "word = \"Baseball\"\n",
    "if \"x\" not in word:\n",
    "    print( f\"{word} does not contain the character x\" )"
   ]
  },
  {
   "cell_type": "code",
   "execution_count": 30,
   "metadata": {},
   "outputs": [
    {
     "name": "stdout",
     "output_type": "stream",
     "text": [
      "Type something: leriherkh\n"
     ]
    }
   ],
   "source": [
    "# exercises\n",
    "usin = input(\"Type something: \")\n",
    "if \"es\" in usin:\n",
    "    print(\"'es' is in typed text\")\n",
    "if \"ing\" in usin[-3: ]:\n",
    "    print(\"U type continoous\")"
   ]
  },
  {
   "cell_type": "markdown",
   "metadata": {},
   "source": [
    "## Elif Statements"
   ]
  },
  {
   "cell_type": "code",
   "execution_count": 32,
   "metadata": {},
   "outputs": [
    {
     "name": "stdout",
     "output_type": "stream",
     "text": [
      "x is less\n"
     ]
    }
   ],
   "source": [
    "# using the elif conditional statement\n",
    "x, y = 5, 10\n",
    "if x > y:\n",
    "    print(\"x is greater\")\n",
    "elif x < y:\n",
    "    print(\"x is less\")"
   ]
  },
  {
   "cell_type": "code",
   "execution_count": 33,
   "metadata": {},
   "outputs": [
    {
     "name": "stdout",
     "output_type": "stream",
     "text": [
      "x is equal to z\n"
     ]
    }
   ],
   "source": [
    "# writing multiple conditionals within each other - multiple block levels\n",
    "x, y, z = 5, 10, 5\n",
    "if x > y:\n",
    "    print(\"greater\")\n",
    "elif x <= y:\n",
    "    if x == z:\n",
    "        print(\"x is equal to z\") # resulting output\n",
    "    elif x != z:\n",
    "        print(\"x is not equal to z\") # won't get hit"
   ]
  },
  {
   "cell_type": "markdown",
   "metadata": {},
   "source": [
    "## Else statemets"
   ]
  },
  {
   "cell_type": "code",
   "execution_count": 35,
   "metadata": {},
   "outputs": [
    {
     "name": "stdout",
     "output_type": "stream",
     "text": [
      "Hello John!\n"
     ]
    }
   ],
   "source": [
    "# using an else statement\n",
    "name = \"John\"\n",
    "if name == \"Jacob\":\n",
    "    print(\"Hello Jacob!\")\n",
    "else:\n",
    "    print(f\"Hello {name}!\")"
   ]
  },
  {
   "cell_type": "code",
   "execution_count": 36,
   "metadata": {},
   "outputs": [
    {
     "name": "stdout",
     "output_type": "stream",
     "text": [
      "Name starts with a J\n"
     ]
    }
   ],
   "source": [
    "# writing a full conditional statement with if, elif, else\n",
    "name = \"John\"\n",
    "if name[0] == \"A\":\n",
    "    print(\"Name starts with an A\")\n",
    "elif name[0] == \"B\":\n",
    "    print(\"Name starts with a B\")\n",
    "elif name[0] == \"J\":\n",
    "    print(\"Name starts with a J\")\n",
    "else: # covers all other possibilities\n",
    "    print( f\"Name starts with a {name[0]}\")"
   ]
  },
  {
   "cell_type": "code",
   "execution_count": 37,
   "metadata": {},
   "outputs": [
    {
     "name": "stdout",
     "output_type": "stream",
     "text": [
      "Plese? type time: 1300\n",
      "Good Afternoon\n"
     ]
    }
   ],
   "source": [
    "# exercises\n",
    "time = int(input(\"Plese? type time: \"))\n",
    "if time < 1200:\n",
    "    print(\"Good Morning\")\n",
    "elif time < 1700:\n",
    "    print(\"Good Afternoon\")\n",
    "else:\n",
    "    print(\"Good Evening\")"
   ]
  },
  {
   "cell_type": "markdown",
   "metadata": {},
   "source": [
    "## Friday Project: Creating a Calculator"
   ]
  },
  {
   "cell_type": "code",
   "execution_count": 46,
   "metadata": {},
   "outputs": [
    {
     "name": "stdout",
     "output_type": "stream",
     "text": [
      "Would you like to add/subtract/multiply/divide? add\n",
      "You chose add.\n",
      "What is the first number? 345\n",
      "What is the second number? 13\n",
      "First Number: 345\n",
      "Second Number: 13\n",
      "345.0 + 13.0 = 358.0\n"
     ]
    }
   ],
   "source": [
    "# step 1: ask user for calculation to be performed\n",
    "operation = input(\"Would you like to add/subtract/multiply/divide? \").lower( )\n",
    "# step 2: ask for numbers, alert order matters for subtracting and dividing\n",
    "if operation == \"subtract\" or operation == \"divide\":\n",
    "    print( f\"You chose {operation}.\" )\n",
    "    print(\"Please keep in mind that the order of your numbers matter.\")\n",
    "num1 = input(\"What is the first number? \")\n",
    "num2 = input(\"What is the second number? \")\n",
    "# step 3: setup try/except for mathematical operation\n",
    "try:\n",
    "    # step 3a: immediately try to convert numbers input to floats\n",
    "    num1, num2 = float(num1), float(num2)\n",
    "    # step 3b: perform operation and print result\n",
    "    if operation == \"add\":\n",
    "        result = num1 + num2\n",
    "        print( f\"{num1} + {num2} = {result}\" )\n",
    "    elif operation == \"subtract\":\n",
    "        result = num1 - num2\n",
    "        print( f\"{num1} - {num2} = {result}\" )\n",
    "    elif operation == \"multiply\":\n",
    "        result = num1 * num2\n",
    "        print( f\"{num1} * {num2} = {result}\" )\n",
    "    elif operation == \"divide\":\n",
    "        result = num1 / num2\n",
    "        print( f\"{num1} / {num2 } = {result}\")\n",
    "    else:\n",
    "        # else will be hit if they didn't chose an option correctly\n",
    "        print(f\"Sorry, but '{operation}' is not an option.\")\n",
    "except:\n",
    "    # steb 3c: print error\n",
    "    print(\"Error: Improper numbers used. Please try again.\")"
   ]
  }
 ],
 "metadata": {
  "kernelspec": {
   "display_name": "Python 3",
   "language": "python",
   "name": "python3"
  },
  "language_info": {
   "codemirror_mode": {
    "name": "ipython",
    "version": 3
   },
   "file_extension": ".py",
   "mimetype": "text/x-python",
   "name": "python",
   "nbconvert_exporter": "python",
   "pygments_lexer": "ipython3",
   "version": "3.8.0"
  }
 },
 "nbformat": 4,
 "nbformat_minor": 4
}
