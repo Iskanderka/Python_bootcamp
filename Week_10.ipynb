{
 "cells": [
  {
   "cell_type": "markdown",
   "metadata": {},
   "source": [
    "# Virtual Environments and Request Module"
   ]
  },
  {
   "cell_type": "code",
   "execution_count": 1,
   "metadata": {},
   "outputs": [
    {
     "data": {
      "text/plain": [
       "'C:\\\\Users\\\\ogure\\\\anaconda3\\\\envs\\\\data_analysis'"
      ]
     },
     "execution_count": 1,
     "metadata": {},
     "output_type": "execute_result"
    }
   ],
   "source": [
    "import os\n",
    "import sys\n",
    "os.path.dirname(sys.executable)"
   ]
  },
  {
   "cell_type": "code",
   "execution_count": 2,
   "metadata": {},
   "outputs": [
    {
     "name": "stdout",
     "output_type": "stream",
     "text": [
      "<Response [200]>\n",
      "<class 'requests.models.Response'>\n"
     ]
    }
   ],
   "source": [
    "# sending a request and logging the responce code\n",
    "\n",
    "import requests\n",
    "\n",
    "r = requests.get(\"https://api.github.com/users/Connor-SM\")\n",
    "\n",
    "print( r )\n",
    "print( type( r ) )"
   ]
  },
  {
   "cell_type": "code",
   "execution_count": 4,
   "metadata": {},
   "outputs": [
    {
     "name": "stdout",
     "output_type": "stream",
     "text": [
      "b'{\"login\":\"Connor-SM\",\"id\":20958711,\"node_id\":\"MDQ6VXNlcjIwOTU4NzEx\",\"avatar_url\":\"https://avatars0.githubusercontent.com/u/20958711?v=4\",\"gravatar_id\":\"\",\"url\":\"https://api.github.com/users/Connor-SM\",\"html_url\":\"https://github.com/Connor-SM\",\"followers_url\":\"https://api.github.com/users/Connor-SM/followers\",\"following_url\":\"https://api.github.com/users/Connor-SM/following{/other_user}\",\"gists_url\":\"https://api.github.com/users/Connor-SM/gists{/gist_id}\",\"starred_url\":\"https://api.github.com/users/Connor-SM/starred{/owner}{/repo}\",\"subscriptions_url\":\"https://api.github.com/users/Connor-SM/subscriptions\",\"organizations_url\":\"https://api.github.com/users/Connor-SM/orgs\",\"repos_url\":\"https://api.github.com/users/Connor-SM/repos\",\"events_url\":\"https://api.github.com/users/Connor-SM/events{/privacy}\",\"received_events_url\":\"https://api.github.com/users/Connor-SM/received_events\",\"type\":\"User\",\"site_admin\":false,\"name\":\"Connor Milliken\",\"company\":\"HubSpot, Inc.\",\"blog\":\"www.connormilliken.com\",\"location\":\"Boston, MA\",\"email\":null,\"hireable\":null,\"bio\":\"- Author of Python Projects for Beginners\\\\r\\\\n\\\\r\\\\n- Python Instructor\\\\r\\\\n\\\\r\\\\n- Adventurer/Traveler\",\"twitter_username\":null,\"public_repos\":51,\"public_gists\":0,\"followers\":54,\"following\":36,\"created_at\":\"2016-08-10T22:39:46Z\",\"updated_at\":\"2020-07-02T14:21:09Z\"}'\n",
      "<class 'bytes'>\n"
     ]
    }
   ],
   "source": [
    "# accessing the content that we requested from the URL\n",
    "data = r.content\n",
    "print(data)\n",
    "print(type(data))"
   ]
  },
  {
   "cell_type": "code",
   "execution_count": 12,
   "metadata": {},
   "outputs": [
    {
     "name": "stdout",
     "output_type": "stream",
     "text": [
      "Key: login \t\t\t Value: Connor-SM\n",
      "Key: id \t\t\t Value: 20958711\n",
      "Key: node_id \t\t\t Value: MDQ6VXNlcjIwOTU4NzEx\n",
      "Key: avatar_url \t\t\t Value: https://avatars0.githubusercontent.com/u/20958711?v=4\n",
      "Key: gravatar_id \t\t\t Value: \n",
      "Key: url \t\t\t Value: https://api.github.com/users/Connor-SM\n",
      "Key: html_url \t\t\t Value: https://github.com/Connor-SM\n",
      "Key: followers_url \t\t\t Value: https://api.github.com/users/Connor-SM/followers\n",
      "Key: following_url \t\t\t Value: https://api.github.com/users/Connor-SM/following{/other_user}\n",
      "Key: gists_url \t\t\t Value: https://api.github.com/users/Connor-SM/gists{/gist_id}\n",
      "Key: starred_url \t\t\t Value: https://api.github.com/users/Connor-SM/starred{/owner}{/repo}\n",
      "Key: subscriptions_url \t\t\t Value: https://api.github.com/users/Connor-SM/subscriptions\n",
      "Key: organizations_url \t\t\t Value: https://api.github.com/users/Connor-SM/orgs\n",
      "Key: repos_url \t\t\t Value: https://api.github.com/users/Connor-SM/repos\n",
      "Key: events_url \t\t\t Value: https://api.github.com/users/Connor-SM/events{/privacy}\n",
      "Key: received_events_url \t\t\t Value: https://api.github.com/users/Connor-SM/received_events\n",
      "Key: type \t\t\t Value: User\n",
      "Key: site_admin \t\t\t Value: False\n",
      "Key: name \t\t\t Value: Connor Milliken\n",
      "Key: company \t\t\t Value: HubSpot, Inc.\n",
      "Key: blog \t\t\t Value: www.connormilliken.com\n",
      "Key: location \t\t\t Value: Boston, MA\n",
      "Key: email \t\t\t Value: None\n",
      "Key: hireable \t\t\t Value: None\n",
      "Key: bio \t\t\t Value: - Author of Python Projects for Beginners\r\n",
      "\r\n",
      "- Python Instructor\r\n",
      "\r\n",
      "- Adventurer/Traveler\n",
      "Key: twitter_username \t\t\t Value: None\n",
      "Key: public_repos \t\t\t Value: 51\n",
      "Key: public_gists \t\t\t Value: 0\n",
      "Key: followers \t\t\t Value: 54\n",
      "Key: following \t\t\t Value: 36\n",
      "Key: created_at \t\t\t Value: 2016-08-10T22:39:46Z\n",
      "Key: updated_at \t\t\t Value: 2020-07-02T14:21:09Z\n",
      "Connor Milliken\n"
     ]
    }
   ],
   "source": [
    "# converting data from JSON into a Python dictionary and outputting all key-value pairs\n",
    "data = r.json( ) # converting the data from a string to a dictionary\n",
    "for k, v in data.items( ):\n",
    "    print(f\"Key: {k} \\t\\t\\t Value: {v}\")\n",
    "print(data[\"name\"]) # accessing data directly"
   ]
  },
  {
   "cell_type": "code",
   "execution_count": 15,
   "metadata": {},
   "outputs": [
    {
     "name": "stdout",
     "output_type": "stream",
     "text": [
      "5492973\n"
     ]
    }
   ],
   "source": [
    "# outputting specific key-value pairs from data\n",
    "r = requests.get(\"https://api.github.com/search/repositories?q=language:python\")\n",
    "data = r.json( )\n",
    "print(data[\"total_count\"]) # output the total number of repositories that use python"
   ]
  },
  {
   "cell_type": "markdown",
   "metadata": {},
   "source": [
    "## Pandas"
   ]
  },
  {
   "cell_type": "code",
   "execution_count": 1,
   "metadata": {},
   "outputs": [],
   "source": [
    "# importing the pandas library\n",
    "import pandas as pd"
   ]
  },
  {
   "cell_type": "code",
   "execution_count": 3,
   "metadata": {},
   "outputs": [
    {
     "name": "stdout",
     "output_type": "stream",
     "text": [
      "    names  ages\n",
      "0    Jess    25\n",
      "1    Jors    35\n",
      "2     JKL    22\n",
      "3     DAS    29\n",
      "4     Ted    33\n",
      "5  Barney    20\n",
      "6   Tyler    18\n"
     ]
    }
   ],
   "source": [
    "# using the from_dict method to convert a dictionary into a Pandas DataFrame\n",
    "import random\n",
    "\n",
    "random.seed(3)\n",
    "\n",
    "names = [\"Jess\", \"Jors\", \"JKL\", \"DAS\", \"Ted\", \"Barney\", \"Tyler\"]\n",
    "ages = [ random.randint(18, 35) for x in range(len(names)) ]\n",
    "\n",
    "people = { \"names\" : names, \"ages\" : ages }\n",
    "\n",
    "df = pd.DataFrame.from_dict(people)\n",
    "print(df)"
   ]
  },
  {
   "cell_type": "code",
   "execution_count": null,
   "metadata": {},
   "outputs": [],
   "source": []
  }
 ],
 "metadata": {
  "kernelspec": {
   "display_name": "Python 3",
   "language": "python",
   "name": "python3"
  },
  "language_info": {
   "codemirror_mode": {
    "name": "ipython",
    "version": 3
   },
   "file_extension": ".py",
   "mimetype": "text/x-python",
   "name": "python",
   "nbconvert_exporter": "python",
   "pygments_lexer": "ipython3",
   "version": "3.8.5"
  }
 },
 "nbformat": 4,
 "nbformat_minor": 4
}
