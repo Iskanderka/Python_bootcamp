{
 "cells": [
  {
   "cell_type": "code",
   "execution_count": 13,
   "metadata": {},
   "outputs": [
    {
     "data": {
      "text/plain": [
       "True"
      ]
     },
     "execution_count": 13,
     "metadata": {},
     "output_type": "execute_result"
    }
   ],
   "source": [
    "# challange of the week\n",
    "def func(word):\n",
    "    word = word.lower()\n",
    "    pol = False\n",
    "    for i in range(int(len(word))//2):\n",
    "        if word[i] == word[-1-i]:\n",
    "            return True\n",
    "    return False\n",
    "\n",
    "func(\"teet\")"
   ]
  },
  {
   "cell_type": "markdown",
   "metadata": {},
   "source": [
    "# Dictionaries"
   ]
  },
  {
   "cell_type": "code",
   "execution_count": 14,
   "metadata": {},
   "outputs": [
    {
     "name": "stdout",
     "output_type": "stream",
     "text": [
      "{'name': 'Morty', 'age': 26}\n"
     ]
    }
   ],
   "source": [
    "# declaring a dictionary variable\n",
    "empty = { } # empty dictionary\n",
    "person = { \"name\": \"John Smith\" }\n",
    "    # dictionary with one key/value pair\n",
    "customer = {\n",
    "    \"name\": \"Morty\",\n",
    "    \"age\": 26\n",
    "} # dictionary with two key/value pairs\n",
    "print(customer)"
   ]
  },
  {
   "cell_type": "code",
   "execution_count": 16,
   "metadata": {},
   "outputs": [
    {
     "name": "stdout",
     "output_type": "stream",
     "text": [
      "John\n"
     ]
    }
   ],
   "source": [
    "# accessing dictionary information through keys\n",
    "person = { \"name\": \"John\" }\n",
    "print( person[ \"name\" ] ) # access information through the key"
   ]
  },
  {
   "cell_type": "code",
   "execution_count": 19,
   "metadata": {},
   "outputs": [
    {
     "name": "stdout",
     "output_type": "stream",
     "text": [
      "John\n",
      "Age is not available.\n"
     ]
    }
   ],
   "source": [
    "# using the get method to access dictionary information\n",
    "person = { \"name\": \"John\" }\n",
    "print( person.get(\"name\") ) # retrieves value of name key as before\n",
    "print( person.get(\"age\", \"Age is not available.\") ) # get is a secure way to retrieve information"
   ]
  },
  {
   "cell_type": "code",
   "execution_count": 20,
   "metadata": {},
   "outputs": [
    {
     "name": "stdout",
     "output_type": "stream",
     "text": [
      "baseball\n"
     ]
    }
   ],
   "source": [
    "# storing a list within a dictionary and accessing it\n",
    "data = { \"sports\": [ \"baseball\", \"football\", \"hockey\", \"soccer\" ] }\n",
    "print( data[\"sports\"][0] ) # first access the key, then the index"
   ]
  },
  {
   "cell_type": "code",
   "execution_count": 21,
   "metadata": {},
   "outputs": [],
   "source": [
    "# improperly storing a list within a dictionary\n",
    "sports = [ \"baseball\", \"football\", \"hockey\", \"soccer\" ]\n",
    "# sports_dict = dict( sports ) # will produce error, no key\n",
    "sports_dict = dict({\"sports\" : sports})"
   ]
  },
  {
   "cell_type": "code",
   "execution_count": 22,
   "metadata": {},
   "outputs": [
    {
     "name": "stdout",
     "output_type": "stream",
     "text": [
      "{'name': 'Kirsten'}\n",
      "Kirsten\n"
     ]
    }
   ],
   "source": [
    "# storing a dictionary within a list and accessing it\n",
    "data = [ \"John\", \"Dennis\", { \"name\": \"Kirsten\" } ]\n",
    "print( data[2] ) # the dictionary is in index 2\n",
    "print( data[2][\"name\"] ) # first access the index, then access the key"
   ]
  },
  {
   "cell_type": "code",
   "execution_count": 23,
   "metadata": {},
   "outputs": [
    {
     "name": "stdout",
     "output_type": "stream",
     "text": [
      "{'2018': 108, '2017': 93}\n",
      "108\n"
     ]
    }
   ],
   "source": [
    "# storing a dictionary within a dictionary and accessing it\n",
    "data = {\n",
    "\"team\": \"Boston Red Sox\",\n",
    "\"wins\": { \"2018\": 108, \"2017\": 93 }\n",
    "}\n",
    "print( data[\"wins\"] ) # will output the dictionary within the wins key\n",
    "print( data[\"wins\"][\"2018\"] ) # first access the wins key, then the next key"
   ]
  },
  {
   "cell_type": "code",
   "execution_count": 26,
   "metadata": {},
   "outputs": [
    {
     "name": "stdout",
     "output_type": "stream",
     "text": [
      "Type your name and age: John 55\n",
      "{'John': '55'}\n"
     ]
    }
   ],
   "source": [
    "# exercise\n",
    "smth = input(\"Type your name and age: \")\n",
    "person = {smth[:smth.find(\" \")]: smth[smth.find(\" \")+1:]}\n",
    "print(person)"
   ]
  },
  {
   "cell_type": "code",
   "execution_count": 27,
   "metadata": {},
   "outputs": [
    {
     "name": "stdout",
     "output_type": "stream",
     "text": [
      "cheese\n",
      "sauge\n",
      "peppers\n"
     ]
    }
   ],
   "source": [
    "# exercise 2\n",
    "pizza = {\n",
    "    \"ingredients\": [\"cheese\", \"sauge\", \"peppers\"]\n",
    "}\n",
    "for ing in pizza[\"ingredients\"]:\n",
    "    print(ing)"
   ]
  },
  {
   "cell_type": "markdown",
   "metadata": {},
   "source": [
    "# Working with Dictionaries"
   ]
  },
  {
   "cell_type": "code",
   "execution_count": 30,
   "metadata": {},
   "outputs": [
    {
     "name": "stdout",
     "output_type": "stream",
     "text": [
      "Year: 2018 \t Color: Blue\n"
     ]
    }
   ],
   "source": [
    "# adding new key/value pairs to a dictionary\n",
    "car = { \"year\": 2018 }\n",
    "car[\"color\"] = \"Blue\"\n",
    "print( \"Year: {} \\t Color: {}\".format( car[\"year\"], car[\"color\"] ) )"
   ]
  },
  {
   "cell_type": "code",
   "execution_count": 31,
   "metadata": {},
   "outputs": [
    {
     "name": "stdout",
     "output_type": "stream",
     "text": [
      "{}\n"
     ]
    }
   ],
   "source": [
    "# deleting a key/value pair from a dictionary\n",
    "car = { \"year\": 2018 }\n",
    "try:\n",
    "    del car[\"year\"]\n",
    "    print(car)\n",
    "except:\n",
    "    print(\"That key does not exist\")"
   ]
  },
  {
   "cell_type": "code",
   "execution_count": 32,
   "metadata": {},
   "outputs": [
    {
     "name": "stdout",
     "output_type": "stream",
     "text": [
      "name\n",
      "John\n",
      "age\n",
      "26\n"
     ]
    }
   ],
   "source": [
    "# looping over a dictionary via the keys\n",
    "person = { \"name\": \"John\", \"age\": 26 }\n",
    "for key in person.keys( ):\n",
    "    print(key)\n",
    "    print( person[key] ) # will output the value at the current key"
   ]
  },
  {
   "cell_type": "code",
   "execution_count": 33,
   "metadata": {},
   "outputs": [
    {
     "name": "stdout",
     "output_type": "stream",
     "text": [
      "John\n",
      "26\n"
     ]
    }
   ],
   "source": [
    "# looping over a dictionary via the values\n",
    "person = { \"name\": \"John\", \"age\": 26 }\n",
    "for value in person.values( ):\n",
    "    print(value)"
   ]
  },
  {
   "cell_type": "code",
   "execution_count": 35,
   "metadata": {},
   "outputs": [
    {
     "name": "stdout",
     "output_type": "stream",
     "text": [
      "name: John\n",
      "age: 26\n"
     ]
    }
   ],
   "source": [
    "# looping over a dictionary via the key/value pair\n",
    "person = { \"name\": \"John\", \"age\": 26 }\n",
    "for key, value in person.items( ):\n",
    "    print( \"{}: {}\".format(key, value) )"
   ]
  },
  {
   "cell_type": "markdown",
   "metadata": {},
   "source": [
    "## Tuplets, Sets, Frozesets"
   ]
  },
  {
   "cell_type": "code",
   "execution_count": 37,
   "metadata": {},
   "outputs": [
    {
     "name": "stdout",
     "output_type": "stream",
     "text": [
      "<class 'tuple'> <class 'tuple'>\n"
     ]
    }
   ],
   "source": [
    "# declaring a tuple\n",
    "t1 = (\"hello\", 2, \"hello\") # with parens\n",
    "t2 = True, 1 # without parens\n",
    "print( type(t1), type(t2) ) # both are tuples\n",
    "# t1[0] = 1 # will crash, tuples are immutable once declared"
   ]
  },
  {
   "cell_type": "code",
   "execution_count": 39,
   "metadata": {},
   "outputs": [
    {
     "name": "stdout",
     "output_type": "stream",
     "text": [
      "{1, 2, 3}\n",
      "<class 'set'> <class 'set'>\n",
      "{2, 3, 5}\n"
     ]
    }
   ],
   "source": [
    "# declaring a set\n",
    "s1 = set( [1, 2, 3, 1] ) # uses the set keyword and square brackets\n",
    "print(s1)\n",
    "s2 = {4, 4, 5} # uses curly brackets, like dictionary\n",
    "print( type(s1), type(s2) )\n",
    "s1.add(5) # using the add method to add new items to a set\n",
    "s1.remove(1) # using the remove method to get rid of the value 1\n",
    "print(s1) # notice when printed it removed the second \"1\" at the end"
   ]
  },
  {
   "cell_type": "code",
   "execution_count": 40,
   "metadata": {},
   "outputs": [
    {
     "name": "stdout",
     "output_type": "stream",
     "text": [
      "<class 'frozenset'>\n"
     ]
    }
   ],
   "source": [
    "# declaring a frozenset\n",
    "fset = frozenset( [1, 2, 3, 4] )\n",
    "print( type(fset) )"
   ]
  },
  {
   "cell_type": "markdown",
   "metadata": {},
   "source": [
    "## Reading & Writing Files."
   ]
  },
  {
   "cell_type": "code",
   "execution_count": 41,
   "metadata": {},
   "outputs": [
    {
     "name": "stdout",
     "output_type": "stream",
     "text": [
      "this is a test\n"
     ]
    }
   ],
   "source": [
    "# opening/creating and writing to a text file\n",
    "f = open(\"test.txt\", \"w+\") # writing and reading\n",
    "f.write(\"this is a test\")\n",
    "f.close\n",
    "# reading\n",
    "f = open(\"test.txt\", \"r\")\n",
    "data = f.read()\n",
    "f.close()\n",
    "print(data)"
   ]
  },
  {
   "cell_type": "code",
   "execution_count": 48,
   "metadata": {},
   "outputs": [],
   "source": [
    "# opening/creating and writing to a csv file\n",
    "import csv\n",
    "with open(\"test.csv\", mode=\"w\", newline=\"\") as f:\n",
    "    writer = csv.writer(f, delimiter=\",\")\n",
    "    writer.writerow([\"Name\", \"City\"])\n",
    "    writer.writerow([\"Craig Lou\", \"Taiwan\"])"
   ]
  },
  {
   "cell_type": "code",
   "execution_count": 46,
   "metadata": {},
   "outputs": [
    {
     "name": "stdout",
     "output_type": "stream",
     "text": [
      "['Name', 'City']\n",
      "['Craig Lou', 'Taiwan']\n"
     ]
    }
   ],
   "source": [
    "# reading from csv files\n",
    "with open(\"test.csv\", mode=\"r\") as f:\n",
    "    reader = csv.reader(f, delimiter=\",\")\n",
    "    for row in reader:\n",
    "        print(row)"
   ]
  },
  {
   "cell_type": "code",
   "execution_count": 49,
   "metadata": {},
   "outputs": [
    {
     "name": "stdout",
     "output_type": "stream",
     "text": [
      "Type something: Hello\n"
     ]
    }
   ],
   "source": [
    "# exercise\n",
    "smth = input(\"Type something: \")\n",
    "with open(\"test.txt\", mode=\"a\") as f:\n",
    "    f.write(smth)"
   ]
  },
  {
   "cell_type": "code",
   "execution_count": 50,
   "metadata": {},
   "outputs": [
    {
     "name": "stdout",
     "output_type": "stream",
     "text": [
      "this is a testHello\n"
     ]
    }
   ],
   "source": [
    "with open(\"test.txt\", mode=\"r\") as f:\n",
    "    data = f.read()\n",
    "print(data)"
   ]
  },
  {
   "cell_type": "code",
   "execution_count": 55,
   "metadata": {},
   "outputs": [],
   "source": [
    "# exercise 2\n",
    "data = {\n",
    "'name' : ['Dave', 'Dennis', 'Peter', 'Jess'],\n",
    "'language': ['Python', 'C', 'Java', 'Python']\n",
    "}\n",
    "with open(\"exercise.csv\", mode=\"w\", newline=\"\") as f:\n",
    "    writer = csv.writer(f, delimiter=\",\")\n",
    "    writer.writerow(data.keys())\n",
    "    i = 0\n",
    "    for keys in data[\"name\"]:\n",
    "        writer.writerow([data[\"name\"][i], data[\"language\"][i]])\n",
    "        i +=1"
   ]
  },
  {
   "cell_type": "code",
   "execution_count": 56,
   "metadata": {},
   "outputs": [
    {
     "name": "stdout",
     "output_type": "stream",
     "text": [
      "['name', 'language']\n",
      "['Dave', 'Python']\n",
      "['Dennis', 'C']\n",
      "['Peter', 'Java']\n",
      "['Jess', 'Python']\n"
     ]
    }
   ],
   "source": [
    "with open(\"exercise.csv\", mode=\"r\") as f:\n",
    "    reader = csv.reader(f, delimiter=\",\")\n",
    "    for row in reader:\n",
    "        print(row)"
   ]
  },
  {
   "cell_type": "markdown",
   "metadata": {},
   "source": [
    "## Friday Project: Creating a User DAtabase with CSV Files"
   ]
  },
  {
   "cell_type": "code",
   "execution_count": null,
   "metadata": {},
   "outputs": [
    {
     "name": "stdout",
     "output_type": "stream",
     "text": [
      "Something went wrong, try again.\n",
      "False\n",
      "1. Login\n",
      "2. Register\n",
      "3. Quit\n"
     ]
    }
   ],
   "source": [
    "# import all necessary packages to be used\n",
    "import csv\n",
    "from IPython.display import clear_output\n",
    "\n",
    "#handle user registration and writing to csv\n",
    "def registerUser():\n",
    "    with open(\"users.csv\", mode=\"a\", newline=\"\") as f:\n",
    "        writer = csv.writer(f, delimiter=\",\")\n",
    "        \n",
    "        print(\"To regicter, please enter your info:\")\n",
    "        email = input(\"E-mail: \")\n",
    "        password = input(\"Password: \")\n",
    "        password2 = input(\"Re-write password: \")\n",
    "        \n",
    "        clear_output()\n",
    "        \n",
    "        if password == password2:\n",
    "            writer.writerow([email, password])\n",
    "            print(\"You are now registered!\")\n",
    "        else:\n",
    "            print(\"Something went wrong. Try again\")\n",
    "\n",
    "# ask for user info and return true to login or false if incorrect info\n",
    "def loginUser( ):\n",
    "    print(\"To login, please enter your info:\")\n",
    "    email = input(\"E-mail: \")\n",
    "    password = input(\"Password: \")\n",
    "\n",
    "    clear_output( )\n",
    "\n",
    "    with open(\"users.csv\", mode=\"r\") as f:\n",
    "        reader = csv.reader(f, delimiter=\",\")\n",
    "\n",
    "        for row in reader:\n",
    "            if row == [email, password]:\n",
    "                print(\"You are now logged in!\")\n",
    "                return True\n",
    "\n",
    "    print(\"Something went wrong, try again.\")\n",
    "    return False\n",
    "\n",
    "# variables for main loop\n",
    "active = True\n",
    "logged_in = False\n",
    "c_email = \"\"\n",
    "\n",
    "# main loop\n",
    "while active:\n",
    "    if logged_in:\n",
    "        print(\"1. Logout\\n2. Quit\")\n",
    "    else:\n",
    "        print(\"1. Login\\n2. Register\\n3. Quit\")\n",
    "    \n",
    "    choise = input(\"What would you like to do? \").lower()\n",
    "    \n",
    "    clear_output()\n",
    "    \n",
    "    if choise == \"register\" and logged_in == False:\n",
    "        registerUser()\n",
    "    elif choise == \"login\" and logged_in == False:\n",
    "        logged_in = loginUser()\n",
    "    elif choise == \"quit\":\n",
    "        active = False\n",
    "        print(\"Thanks for using our software!\")\n",
    "    elif choise == \"logout\" and logged_in == True:\n",
    "        logged_in = False\n",
    "        print(\"You are now logged out\")\n",
    "    else:\n",
    "        print(\"Sorry, please try again!\")"
   ]
  },
  {
   "cell_type": "code",
   "execution_count": null,
   "metadata": {},
   "outputs": [],
   "source": [
    "# exercise\n"
   ]
  }
 ],
 "metadata": {
  "kernelspec": {
   "display_name": "Python 3",
   "language": "python",
   "name": "python3"
  },
  "language_info": {
   "codemirror_mode": {
    "name": "ipython",
    "version": 3
   },
   "file_extension": ".py",
   "mimetype": "text/x-python",
   "name": "python",
   "nbconvert_exporter": "python",
   "pygments_lexer": "ipython3",
   "version": "3.8.0"
  }
 },
 "nbformat": 4,
 "nbformat_minor": 4
}
