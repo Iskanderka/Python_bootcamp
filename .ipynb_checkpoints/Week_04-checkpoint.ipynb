{
 "cells": [
  {
   "cell_type": "markdown",
   "metadata": {},
   "source": [
    "# Lists"
   ]
  },
  {
   "cell_type": "code",
   "execution_count": 2,
   "metadata": {},
   "outputs": [
    {
     "name": "stdout",
     "output_type": "stream",
     "text": [
      "[5, 10, 15.2, 20]\n",
      "<class 'list'>\n"
     ]
    }
   ],
   "source": [
    "# declaring a list of numbers\n",
    "nums = [5, 10, 15.2, 20]\n",
    "print(nums)\n",
    "print(type(nums))"
   ]
  },
  {
   "cell_type": "code",
   "execution_count": 3,
   "metadata": {},
   "outputs": [
    {
     "name": "stdout",
     "output_type": "stream",
     "text": [
      "10\n",
      "15.2\n"
     ]
    }
   ],
   "source": [
    "# accessing elements within a list\n",
    "print( nums[1] ) # will output the value at index 1 = 10\n",
    "num = nums[2] # saves index value 2 into num\n",
    "print(num) # prints value assigned to num"
   ]
  },
  {
   "cell_type": "code",
   "execution_count": 4,
   "metadata": {},
   "outputs": [
    {
     "name": "stdout",
     "output_type": "stream",
     "text": [
      "[4.3, 'word', True]\n"
     ]
    }
   ],
   "source": [
    "# declaring a list of mixed data types\n",
    "num = 4.3\n",
    "data = [num, \"word\", True] # the power of data collection\n",
    "print(data)"
   ]
  },
  {
   "cell_type": "code",
   "execution_count": 5,
   "metadata": {},
   "outputs": [
    {
     "name": "stdout",
     "output_type": "stream",
     "text": [
      "[5, 'book', [34, 'hello'], True]\n",
      "[34, 'hello']\n"
     ]
    }
   ],
   "source": [
    "# understanding lists within lists\n",
    "data = [5, \"book\", [ 34, \"hello\" ], True] # lists can hold any type\n",
    "print(data)\n",
    "print( data[2] )"
   ]
  },
  {
   "cell_type": "code",
   "execution_count": 6,
   "metadata": {},
   "outputs": [
    {
     "name": "stdout",
     "output_type": "stream",
     "text": [
      "34\n",
      "hello\n",
      "<class 'list'>\n"
     ]
    }
   ],
   "source": [
    "# using double bracket notation to access lists within lists\n",
    "print( data[2][0] ) # will output 34\n",
    "inner_list = data[2] # inner list will equal [34, 'hello']\n",
    "print( inner_list[1] ) # will output 'hello'\n",
    "print(type(data))"
   ]
  },
  {
   "cell_type": "code",
   "execution_count": 9,
   "metadata": {},
   "outputs": [
    {
     "name": "stdout",
     "output_type": "stream",
     "text": [
      "a: [5, 10]\t b: [5, 10]\n",
      "Location a[0]: 1763559408\t Location b[0]: 1763559408\n",
      "a: [20, 10]\t b: [20, 10]\n"
     ]
    }
   ],
   "source": [
    "# understanding how lists are stored\n",
    "a = [5, 10]\n",
    "b = a\n",
    "print( f\"a: {a}\\t b: {b}\" )\n",
    "print( f\"Location a[0]: {id(a[0])}\\t Location b[0]: {id(b[0])}\")\n",
    "a[0] = 20 # re-declaring the value of a[0] also changes b[0]\n",
    "print( f\"a: {a}\\t b: {b}\" )"
   ]
  },
  {
   "cell_type": "code",
   "execution_count": 12,
   "metadata": {},
   "outputs": [
    {
     "name": "stdout",
     "output_type": "stream",
     "text": [
      "data: [50, 10, 15, 20]\t data_copy: [5, 10, 15, 20]\n"
     ]
    }
   ],
   "source": [
    "# using [:] to copy a list\n",
    "data = [5, 10, 15, 20]\n",
    "data_copy = data[ : ] # a single colon copies the list\n",
    "data[0] = 50\n",
    "print( f\"data: {data}\\t data_copy: {data_copy}\")"
   ]
  },
  {
   "cell_type": "code",
   "execution_count": 16,
   "metadata": {},
   "outputs": [
    {
     "name": "stdout",
     "output_type": "stream",
     "text": [
      "I like to play tennis\n",
      "f b s t c\n"
     ]
    }
   ],
   "source": [
    "# exercices\n",
    "sports = [\"football\", \"basketball\", \"swimming\", \"tennis\", \"chess\"]\n",
    "print(f\"I like to play {sports[3]}\")\n",
    "print(sports[0][0], sports[1][0], sports[2][0], sports[3][0], sports[4][0])"
   ]
  },
  {
   "cell_type": "markdown",
   "metadata": {},
   "source": [
    "## For loops"
   ]
  },
  {
   "cell_type": "code",
   "execution_count": 19,
   "metadata": {},
   "outputs": [
    {
     "name": "stdout",
     "output_type": "stream",
     "text": [
      "Value: 0\n",
      "Value: 1\n",
      "Value: 2\n",
      "Value: 3\n",
      "Value: 4\n"
     ]
    }
   ],
   "source": [
    "# writing your first for loop using range\n",
    "for num in range(5):\n",
    "    print( f\"Value: {num}\")"
   ]
  },
  {
   "cell_type": "code",
   "execution_count": 24,
   "metadata": {},
   "outputs": [
    {
     "name": "stdout",
     "output_type": "stream",
     "text": [
      "Value: 2\n",
      "Value: 4\n",
      "Value: 6\n",
      "Value: 8\n"
     ]
    }
   ],
   "source": [
    "# providing the start, stop, and step for the range function\n",
    "for num in range(2, 10, 2):\n",
    "    print( f\"Value: {num}\") # will print all evens between 2 and 10"
   ]
  },
  {
   "cell_type": "code",
   "execution_count": 26,
   "metadata": {},
   "outputs": [
    {
     "name": "stdout",
     "output_type": "stream",
     "text": [
      "Value: J\n",
      "Value: o\n",
      "Value: h\n",
      "Value: n\n",
      "Value:  \n",
      "Value: S\n",
      "Value: m\n",
      "Value: i\n",
      "Value: t\n",
      "Value: h\n"
     ]
    }
   ],
   "source": [
    "# printing all characters in a name using the 'in' keyword\n",
    "name = \"John Smith\"\n",
    "for letter in name:\n",
    "    print( f\"Value: {letter}\")"
   ]
  },
  {
   "cell_type": "code",
   "execution_count": 27,
   "metadata": {},
   "outputs": [
    {
     "name": "stdout",
     "output_type": "stream",
     "text": [
      "0\n",
      "1\n",
      "2\n",
      "4\n"
     ]
    }
   ],
   "source": [
    "# using the continue statement within a foor loop\n",
    "for num in range(5):\n",
    "    if num == 3:\n",
    "        continue\n",
    "    print(num)"
   ]
  },
  {
   "cell_type": "code",
   "execution_count": 28,
   "metadata": {},
   "outputs": [
    {
     "name": "stdout",
     "output_type": "stream",
     "text": [
      "0\n",
      "1\n",
      "2\n"
     ]
    }
   ],
   "source": [
    "# breaking out of a loop using the 'break' keyword\n",
    "for num in range(5):\n",
    "    if num == 3:\n",
    "        break\n",
    "    print(num)"
   ]
  },
  {
   "cell_type": "code",
   "execution_count": 29,
   "metadata": {},
   "outputs": [],
   "source": [
    "# setting a placeholder using the 'pass' keyword\n",
    "for i in range(5):\n",
    "    # TODO: add code to print number\n",
    "    pass"
   ]
  },
  {
   "cell_type": "code",
   "execution_count": 38,
   "metadata": {},
   "outputs": [
    {
     "name": "stdout",
     "output_type": "stream",
     "text": [
      "3 is divisible by 3\n",
      "6 is divisible by 3\n",
      "9 is divisible by 3\n",
      "12 is divisible by 3\n",
      "15 is divisible by 3\n",
      "18 is divisible by 3\n",
      "21 is divisible by 3\n",
      "24 is divisible by 3\n",
      "27 is divisible by 3\n",
      "30 is divisible by 3\n",
      "33 is divisible by 3\n",
      "36 is divisible by 3\n",
      "39 is divisible by 3\n",
      "42 is divisible by 3\n",
      "45 is divisible by 3\n",
      "48 is divisible by 3\n",
      "51 is divisible by 3\n",
      "54 is divisible by 3\n",
      "57 is divisible by 3\n",
      "60 is divisible by 3\n",
      "63 is divisible by 3\n",
      "66 is divisible by 3\n",
      "69 is divisible by 3\n",
      "72 is divisible by 3\n",
      "75 is divisible by 3\n",
      "78 is divisible by 3\n",
      "81 is divisible by 3\n",
      "84 is divisible by 3\n",
      "87 is divisible by 3\n",
      "90 is divisible by 3\n",
      "93 is divisible by 3\n",
      "96 is divisible by 3\n",
      "99 is divisible by 3\n",
      "Please, type some wordsHello everyone, my name is Искандерка\n",
      "You typed: 'Hello everyone, my name is Искандерка'\n",
      "eoeeyoeyaeiИаеа"
     ]
    }
   ],
   "source": [
    "# exercices\n",
    "for num in range(1, 101):\n",
    "    if num % 3 == 0:\n",
    "        print(f\"{num} is divisible by 3\")\n",
    "words = input(\"Please, type some words\")\n",
    "vowels = \"EYUIOAУЕЫАОЭЯИЮeyuioaуеыаоэяию\"\n",
    "print(f\"You typed: '{words}'\")\n",
    "for letter in words:\n",
    "    if letter in vowels:\n",
    "        print(letter, end='')"
   ]
  },
  {
   "cell_type": "markdown",
   "metadata": {},
   "source": [
    "## While Loops"
   ]
  },
  {
   "cell_type": "code",
   "execution_count": 40,
   "metadata": {},
   "outputs": [
    {
     "name": "stdout",
     "output_type": "stream",
     "text": [
      "10\n",
      "9\n",
      "8\n",
      "7\n",
      "6\n",
      "5\n",
      "4\n",
      "3\n",
      "2\n",
      "1\n"
     ]
    }
   ],
   "source": [
    "# writing your first while loop\n",
    "health = 10\n",
    "while health > 0:\n",
    "    print(health)\n",
    "    health -= 1 # forgetting this line will result in infinite loop"
   ]
  },
  {
   "cell_type": "code",
   "execution_count": 43,
   "metadata": {},
   "outputs": [
    {
     "name": "stdout",
     "output_type": "stream",
     "text": [
      "0 0  0 1  0 2  \n",
      "\n",
      "1 0  1 1  1 2  \n",
      "\n"
     ]
    }
   ],
   "source": [
    "# using two or more loops together is called a nested loop\n",
    "for i in range(2): # outside loop\n",
    "    for j in range(3): # inside loop\n",
    "        print( i, j , end = \"  \")\n",
    "    print(\"\\n\")"
   ]
  },
  {
   "cell_type": "code",
   "execution_count": 52,
   "metadata": {},
   "outputs": [
    {
     "name": "stdout",
     "output_type": "stream",
     "text": [
      "Type something (not quit, please)Quit\n",
      "0 1 2 "
     ]
    }
   ],
   "source": [
    "# exercices\n",
    "words = input(\"Type something (not quit, please)\")\n",
    "while (words != \"Quit\") and (words != \"quit\"):\n",
    "    print(f\"Your input: {words}\")\n",
    "    words = input(\"Type something (not quit, please)\")\n",
    "game_over = False\n",
    "while not game_over:\n",
    "    for num in range(5):\n",
    "        if num == 3:\n",
    "            game_over = True\n",
    "            break\n",
    "        print(num, end = \" \")"
   ]
  },
  {
   "cell_type": "markdown",
   "metadata": {},
   "source": [
    "## Working with Lists"
   ]
  },
  {
   "cell_type": "code",
   "execution_count": 53,
   "metadata": {},
   "outputs": [
    {
     "name": "stdout",
     "output_type": "stream",
     "text": [
      "3\n"
     ]
    }
   ],
   "source": [
    "# checking the number of items within a list\n",
    "nums = [5, 10, 15]\n",
    "length = len(nums) # len() returns an integer\n",
    "print(length)"
   ]
  },
  {
   "cell_type": "code",
   "execution_count": 54,
   "metadata": {},
   "outputs": [
    {
     "name": "stdout",
     "output_type": "stream",
     "text": [
      "[10, 15]\n",
      "[5, 10]\n",
      "[5, 15]\n",
      "[10, 15]\n"
     ]
    }
   ],
   "source": [
    "# accessing specific items of a list with slices\n",
    "print( nums[ 1 : 3 ] ) # will output items in index 1 and 2\n",
    "print( nums[ : 2 ] ) # will output items in index 0 and 1\n",
    "print( nums[ : : 2 ] ) # will print every other index - 0, 2, 4, etc.\n",
    "print( nums[ -2 : ] ) # will output the last two items in list"
   ]
  },
  {
   "cell_type": "code",
   "execution_count": 60,
   "metadata": {},
   "outputs": [
    {
     "name": "stdout",
     "output_type": "stream",
     "text": [
      "[10, 20, 5]\n"
     ]
    }
   ],
   "source": [
    "# adding an item to the back of a list using append\n",
    "nums = [10, 20]\n",
    "nums.append(5)\n",
    "print(nums) # outputs [10, 20, 5]"
   ]
  },
  {
   "cell_type": "code",
   "execution_count": 58,
   "metadata": {
    "scrolled": true
   },
   "outputs": [
    {
     "name": "stdout",
     "output_type": "stream",
     "text": [
      "['glove', 'ball', 'base']\n"
     ]
    }
   ],
   "source": [
    "# adding a value to the beginning of the list\n",
    "words = [ \"ball\", \"base\" ]\n",
    "words.insert(0, \"glove\") # first number is the index, second is the value\n",
    "print(words)"
   ]
  },
  {
   "cell_type": "code",
   "execution_count": 61,
   "metadata": {},
   "outputs": [
    {
     "name": "stdout",
     "output_type": "stream",
     "text": [
      "5 \n",
      " ['ball']\n"
     ]
    }
   ],
   "source": [
    "# using pop to remove items and saving to a variable to use later\n",
    "items = [5, \"ball\", True]\n",
    "items.pop( ) # by default removes the last item\n",
    "removed_item = items.pop(0) # removes 5 and saves it into the variable\n",
    "print(removed_item, \"\\n\", items)"
   ]
  },
  {
   "cell_type": "code",
   "execution_count": 63,
   "metadata": {},
   "outputs": [
    {
     "name": "stdout",
     "output_type": "stream",
     "text": [
      "['baseball', 'football', 'hockey']\n"
     ]
    }
   ],
   "source": [
    "# using the remove method with a try and except\n",
    "sports = [ \"baseball\", \"soccer\", \"football\", \"hockey\" ]\n",
    "try:\n",
    "    sports.remove(\"soccer\")\n",
    "except:\n",
    "    print(\"That item does not exist in the list\")\n",
    "print(sports)"
   ]
  },
  {
   "cell_type": "code",
   "execution_count": 64,
   "metadata": {},
   "outputs": [
    {
     "name": "stdout",
     "output_type": "stream",
     "text": [
      "3\n",
      "9\n",
      "17\n"
     ]
    }
   ],
   "source": [
    "# using min, max, and sum\n",
    "nums = [5, 3, 9]\n",
    "print( min(nums) ) # will find the lowest number in the list\n",
    "print( max(nums) ) # will find the highest number in the list\n",
    "print( sum(nums) ) # will add all numbers in the list and return the sum"
   ]
  },
  {
   "cell_type": "code",
   "execution_count": 65,
   "metadata": {},
   "outputs": [
    {
     "name": "stdout",
     "output_type": "stream",
     "text": [
      "[5, 8, 0, 2] [0, 2, 5, 8]\n"
     ]
    }
   ],
   "source": [
    "# using sorted on lists for numerical and alphabetical data\n",
    "nums = [5, 8, 0, 2]\n",
    "sorted_nums = sorted(nums) # save to a new variable to use later\n",
    "print(nums, sorted_nums) # the original list is in tact"
   ]
  },
  {
   "cell_type": "code",
   "execution_count": 66,
   "metadata": {},
   "outputs": [
    {
     "name": "stdout",
     "output_type": "stream",
     "text": [
      "[0, 3, 5, 8]\n"
     ]
    }
   ],
   "source": [
    "# sorting a list with .sort() in-place\n",
    "nums = [5, 0, 8, 3]\n",
    "nums.sort( ) # alters the original variable directly\n",
    "print(nums)"
   ]
  },
  {
   "cell_type": "code",
   "execution_count": 69,
   "metadata": {},
   "outputs": [
    {
     "name": "stdout",
     "output_type": "stream",
     "text": [
      "Mary found\n",
      "Jimmy not found\n"
     ]
    }
   ],
   "source": [
    "# using conditional statements on a list\n",
    "names = [ \"Jack\", \"Robert\", \"Mary\" ]\n",
    "if \"Mary\" in names:\n",
    "    print(\"Mary found\") # will run since Mary is in the list\n",
    "if \"Jimmy\" not in names:\n",
    "    print(\"Jimmy not found\") # will run since Jimmy is not in the list"
   ]
  },
  {
   "cell_type": "code",
   "execution_count": 71,
   "metadata": {},
   "outputs": [
    {
     "name": "stdout",
     "output_type": "stream",
     "text": [
      "nums is empty\n"
     ]
    }
   ],
   "source": [
    "# using conditionals to see if a list is empty\n",
    "nums = [ ]\n",
    "if not nums: # could also say 'if nums == []'\n",
    "    print(\"nums is empty\")"
   ]
  },
  {
   "cell_type": "code",
   "execution_count": 73,
   "metadata": {},
   "outputs": [
    {
     "name": "stdout",
     "output_type": "stream",
     "text": [
      "Baseball\n",
      "Hockey\n",
      "Football\n",
      "Basketball\n"
     ]
    }
   ],
   "source": [
    "# using a for loop to print all items in a list\n",
    "sports = [ \"Baseball\", \"Hockey\", \"Football\", \"Basketball\" ]\n",
    "for sport in sports:\n",
    "    print(sport)"
   ]
  },
  {
   "cell_type": "code",
   "execution_count": 75,
   "metadata": {},
   "outputs": [
    {
     "name": "stdout",
     "output_type": "stream",
     "text": [
      "['Jack', 'Rob', 'Robert']\n"
     ]
    }
   ],
   "source": [
    "# using the while loop to remove a certain value\n",
    "names = [ \"Bob\", \"Jack\", \"Rob\", \"Bob\", \"Robert\" ]\n",
    "while \"Bob\" in names:\n",
    "    names.remove(\"Bob\") # removes all instances of 'Bob'\n",
    "print(names)"
   ]
  },
  {
   "cell_type": "code",
   "execution_count": 81,
   "metadata": {},
   "outputs": [
    {
     "name": "stdout",
     "output_type": "stream",
     "text": [
      "['Bob', 'Kenny', 'Amanda']\n"
     ]
    }
   ],
   "source": [
    "# exercise 1\n",
    "names = [ \"Bob\", \"Kenny\", \"Amanda\", \"Bob\", \"Kenny\" ]\n",
    "counter = 0\n",
    "for name in names:\n",
    "    if names.count(name) > 1:\n",
    "        while name in names:\n",
    "            names.remove(name)\n",
    "        names.insert(counter, name)\n",
    "    counter+=1\n",
    "print(names)"
   ]
  },
  {
   "cell_type": "code",
   "execution_count": 85,
   "metadata": {},
   "outputs": [
    {
     "name": "stdout",
     "output_type": "stream",
     "text": [
      "Type something: dgsg\n",
      "Type something: sdgsdg\n",
      "Type something: sgdsdhg\n",
      "Type something: QUIT\n",
      "['dgsg', 'sdgsdg', 'sgdsdhg']\n"
     ]
    }
   ],
   "source": [
    "# exercise 2\n",
    "words = []\n",
    "word = input(\"Type something: \")\n",
    "while word.lower() != \"quit\": \n",
    "    words.append(word)\n",
    "    word = input(\"Type something: \")\n",
    "print(words)"
   ]
  },
  {
   "cell_type": "markdown",
   "metadata": {},
   "source": [
    "## Friday Projest: Creating Hangman"
   ]
  },
  {
   "cell_type": "code",
   "execution_count": 105,
   "metadata": {},
   "outputs": [
    {
     "name": "stdout",
     "output_type": "stream",
     "text": [
      "You guessed correctly!\n",
      "Congratulations, you guessed it correctly!\n"
     ]
    }
   ],
   "source": [
    "# import additional functions\n",
    "from random import choice\n",
    "from IPython.display import clear_output\n",
    "\n",
    "# declare game variables\n",
    "words = [\"tree\", \"basket\", \"chair\", \"paper\", \"python\" ]\n",
    "word = choice(words) # randomly chooses a word from words list\n",
    "guessed, lives, game_over = [ ], 7, False # multi variable assignment\n",
    "\n",
    "# create a list of underscores to the length of the word\n",
    "guesses = [\"_ \"] * len(word)\n",
    "\n",
    "# create main game loop\n",
    "while not game_over:\n",
    "    # output game information\n",
    "    hidden_word = \"\".join(guesses) # put list together with that thing between\n",
    "    print(f\"Your guessed letters: {guessed}\")\n",
    "    print(f\"Word to guess: {hidden_word}\")\n",
    "    print(f\"Lives: {lives}\")\n",
    "    \n",
    "    ans = input(\"Type quit or guess a letter: \").lower()\n",
    "    \n",
    "    clear_output()\n",
    "    \n",
    "    if ans == \"quit\":\n",
    "        print(\"Thanks for playing!\")\n",
    "        game_over = True\n",
    "    elif ans in word and ans not in guessed: # check if letter in word\n",
    "        print(\"You guessed correctly!\")\n",
    "        \n",
    "        # create a loop to change underscore to proper letter\n",
    "        for i in range(len(word)):\n",
    "            if word[i] == ans:\n",
    "                guesses[i] = ans\n",
    "    elif ans in guessed:\n",
    "        print(\"You already guessed that. Try again.\")\n",
    "    else:\n",
    "        lives -= 1\n",
    "        print(\"Incorrect, you lost a life\")\n",
    "        \n",
    "    if ans not in guessed:\n",
    "        guessed.append(ans)\n",
    "\n",
    "    if lives <=0:\n",
    "        print(\"You lost allyour lives, sir, you lost!\")\n",
    "        game_over = True\n",
    "    elif word == \"\".join(guesses):\n",
    "        print(\"Congratulations, you guessed it correctly!\")\n",
    "        game_over = True        "
   ]
  },
  {
   "cell_type": "code",
   "execution_count": 111,
   "metadata": {},
   "outputs": [
    {
     "name": "stdout",
     "output_type": "stream",
     "text": [
      "Input levels of the pyramid: 3\n",
      "    x    \n",
      "   x x   \n",
      "  x x x  \n"
     ]
    }
   ],
   "source": [
    "# exercise 1\n",
    "it = int(input(\"Input levels of the pyramid: \"))\n",
    "for i in range(it):\n",
    "    print(\" \" * (it-i), \"x \" * (i + 1), \" \" * (it-i-1))"
   ]
  },
  {
   "cell_type": "code",
   "execution_count": 112,
   "metadata": {},
   "outputs": [
    {
     "name": "stdout",
     "output_type": "stream",
     "text": [
      "John\n",
      "Amanda\n"
     ]
    }
   ],
   "source": [
    "# exercise 2\n",
    "names = ['John', ' ', 'Amanda', 5]\n",
    "for name in names:\n",
    "    if type(name) == str:\n",
    "        if name.strip() != '':\n",
    "            print(name)"
   ]
  }
 ],
 "metadata": {
  "kernelspec": {
   "display_name": "Python 3",
   "language": "python",
   "name": "python3"
  },
  "language_info": {
   "codemirror_mode": {
    "name": "ipython",
    "version": 3
   },
   "file_extension": ".py",
   "mimetype": "text/x-python",
   "name": "python",
   "nbconvert_exporter": "python",
   "pygments_lexer": "ipython3",
   "version": "3.8.0"
  }
 },
 "nbformat": 4,
 "nbformat_minor": 4
}
