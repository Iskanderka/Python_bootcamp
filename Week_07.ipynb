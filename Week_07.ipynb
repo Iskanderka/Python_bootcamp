{
 "cells": [
  {
   "cell_type": "markdown",
   "metadata": {},
   "source": [
    "# Creating & Installing a Class"
   ]
  },
  {
   "cell_type": "code",
   "execution_count": 13,
   "metadata": {},
   "outputs": [
    {
     "name": "stdout",
     "output_type": "stream",
     "text": [
      "5763371\n",
      "5763347\n"
     ]
    }
   ],
   "source": [
    "# creating your first class\n",
    "class Car():\n",
    "    pass\n",
    "ford = Car()\n",
    "subaru = Car()\n",
    "print(hash(subaru)) # hash outputs a numerical representation of the location in memory for the variable\n",
    "print(hash(ford))"
   ]
  },
  {
   "cell_type": "markdown",
   "metadata": {},
   "source": [
    "## Attributes"
   ]
  },
  {
   "cell_type": "code",
   "execution_count": 14,
   "metadata": {},
   "outputs": [
    {
     "name": "stdout",
     "output_type": "stream",
     "text": [
      "red\n"
     ]
    }
   ],
   "source": [
    "# how to define a class attribute\n",
    "class Car( ):\n",
    "    sound = \"beep\" # all car objects will have this sound attribute and its' value\n",
    "    color = \"red\" # all car objects will have this color attribute and its' value\n",
    "ford = Car( )\n",
    "print(ford.color) # known as 'dot syntax'"
   ]
  },
  {
   "cell_type": "code",
   "execution_count": 15,
   "metadata": {},
   "outputs": [
    {
     "name": "stdout",
     "output_type": "stream",
     "text": [
      "beep\n",
      "honk\n"
     ]
    }
   ],
   "source": [
    "# changing the value of an attribute\n",
    "class Car( ):\n",
    "    sound = \"beep\"\n",
    "    color = \"red\"\n",
    "ford = Car( )\n",
    "print(ford.sound) # will output 'beep'\n",
    "ford.sound = \"honk\" # from now on the value of fords sound is honk, this does not affect other instances\n",
    "print(ford.sound) # will output 'honk'"
   ]
  },
  {
   "cell_type": "code",
   "execution_count": 16,
   "metadata": {},
   "outputs": [
    {
     "name": "stdout",
     "output_type": "stream",
     "text": [
      "blue\n"
     ]
    }
   ],
   "source": [
    "# using the init method to give instances personalized attributes upon creation\n",
    "class Car( ):\n",
    "    def __init__(self, color):\n",
    "        self.color = color\n",
    "ford = Car(\"blue\")\n",
    "print(ford.color)"
   ]
  },
  {
   "cell_type": "code",
   "execution_count": 18,
   "metadata": {},
   "outputs": [
    {
     "name": "stdout",
     "output_type": "stream",
     "text": [
      "blue 2016\n",
      "red 2018\n"
     ]
    }
   ],
   "source": [
    "# defining different values for multiple instances\n",
    "class Car( ):\n",
    "    def __init__(self, color, year):\n",
    "        self.color = color # sets the attribute color to the value passed in\n",
    "        self.year = year\n",
    "ford = Car(\"blue\", 2016) # create a car object with the color blue and year 2016\n",
    "subaru = Car(\"red\", 2018) # create a car object with the color red and year 2018\n",
    "print(ford.color, ford.year)\n",
    "print(subaru.color, subaru.year)"
   ]
  },
  {
   "cell_type": "code",
   "execution_count": 5,
   "metadata": {},
   "outputs": [
    {
     "name": "stdout",
     "output_type": "stream",
     "text": [
      "beep\n",
      "beep blue\n"
     ]
    }
   ],
   "source": [
    "# using and accessing global class attributes\n",
    "class Car():\n",
    "    sound = \"beep\"\n",
    "    def __init__(self, color):\n",
    "        self.color = \"blue\"\n",
    "\n",
    "print(Car.sound)\n",
    "#print(Car.color) #- dont work\n",
    "\n",
    "ford = Car(\"blue\")\n",
    "print(ford.sound, ford.color)\n",
    "        "
   ]
  },
  {
   "cell_type": "code",
   "execution_count": 7,
   "metadata": {},
   "outputs": [
    {
     "name": "stdout",
     "output_type": "stream",
     "text": [
      "Canine Casey Chocolate Lab\n"
     ]
    }
   ],
   "source": [
    "# exercises\n",
    "class Dog():\n",
    "    species = \"Canine\"\n",
    "    def __init__(self, name, breed):\n",
    "        self.name = name\n",
    "        self.breed = breed\n",
    "        \n",
    "husky = Dog(\"Sammi\", \"Husky\")\n",
    "lab = Dog(\"Casey\", \"Chocolate Lab\")\n",
    "print(lab.species, lab.name, lab.breed)"
   ]
  },
  {
   "cell_type": "markdown",
   "metadata": {},
   "source": [
    "## Methods"
   ]
  },
  {
   "cell_type": "code",
   "execution_count": 8,
   "metadata": {},
   "outputs": [
    {
     "name": "stdout",
     "output_type": "stream",
     "text": [
      "bark\n"
     ]
    }
   ],
   "source": [
    "# defining and calling our first class method\n",
    "class Dog( ):\n",
    "    def makeSound(self):\n",
    "        print(\"bark\")\n",
    "sam = Dog( )\n",
    "sam.makeSound( )"
   ]
  },
  {
   "cell_type": "code",
   "execution_count": 9,
   "metadata": {},
   "outputs": [
    {
     "name": "stdout",
     "output_type": "stream",
     "text": [
      "bark\n"
     ]
    }
   ],
   "source": [
    "# using the self keyword to access attributes within class methods\n",
    "class Dog( ):\n",
    "    sound = \"bark\"\n",
    "    def makeSound(self):\n",
    "        print(self.sound) # self required to access attributes defined in the class\n",
    "sam = Dog( )\n",
    "sam.makeSound( )"
   ]
  },
  {
   "cell_type": "code",
   "execution_count": 10,
   "metadata": {},
   "outputs": [
    {
     "name": "stdout",
     "output_type": "stream",
     "text": [
      "I am a dog.\n",
      "bark\n"
     ]
    }
   ],
   "source": [
    "# understanding which methods are accessible via the class itself and class instances\n",
    "class Dog( ):\n",
    "    sound = \"bark\"\n",
    "    def makeSound(self):\n",
    "        print(self.sound)\n",
    "    def printInfo( ):\n",
    "        print(\"I am a dog.\")\n",
    "Dog.printInfo( ) # able to run printInfo method because it does not include self parameter\n",
    "# Dog.makeSound( ) would produce error, self is in reference to instances only\n",
    "sam = Dog( )\n",
    "sam.makeSound( ) # able to access, self can reference the instance of sam\n",
    "# sam.printInfo( ) will produce error, instances require the self parameter to access methods"
   ]
  },
  {
   "cell_type": "code",
   "execution_count": 11,
   "metadata": {},
   "outputs": [
    {
     "name": "stdout",
     "output_type": "stream",
     "text": [
      "6\n"
     ]
    }
   ],
   "source": [
    "# writing methods that accept parameters\n",
    "class Dog( ):\n",
    "    def showAge(self, age):\n",
    "        print(age) # does not need self, age is referencing the parameter not an attribute\n",
    "sam = Dog( )\n",
    "sam.showAge( 6 ) # passing the integer 6 as an argument to the showAge method"
   ]
  },
  {
   "cell_type": "code",
   "execution_count": 12,
   "metadata": {},
   "outputs": [
    {
     "name": "stdout",
     "output_type": "stream",
     "text": [
      "Sammi\n"
     ]
    }
   ],
   "source": [
    "# using methods to set or return attribute values, proper programming practice\n",
    "class Dog( ):\n",
    "    name = ' ' # would normally use init method to declare, this is for testing purposes\n",
    "    def setName(self, new_name):\n",
    "        self.name = new_name\n",
    "    def getName(self):\n",
    "        return self.name\n",
    "sam = Dog( )\n",
    "sam.setName(\"Sammi\")\n",
    "print( sam.getName( ) )"
   ]
  },
  {
   "cell_type": "code",
   "execution_count": 13,
   "metadata": {},
   "outputs": [
    {
     "name": "stdout",
     "output_type": "stream",
     "text": [
      "6\n"
     ]
    }
   ],
   "source": [
    "# incrementing/decrementing attribute values with methods, best programming practice\n",
    "class Dog( ):\n",
    "    age = 5\n",
    "    def happyBirthday(self):\n",
    "        self.age += 1\n",
    "sam = Dog( )\n",
    "sam.happyBirthday( ) # calls method to increment value by one\n",
    "print(sam.age) # better practice use getters, this is for testing purposes"
   ]
  },
  {
   "cell_type": "code",
   "execution_count": 15,
   "metadata": {},
   "outputs": [
    {
     "name": "stdout",
     "output_type": "stream",
     "text": [
      "Puppy\n"
     ]
    }
   ],
   "source": [
    "# calling a class method from another method\n",
    "class Dog( ):\n",
    "    age = 6\n",
    "    def getAge(self):\n",
    "        return self.age\n",
    "    def printInfo(self):\n",
    "        if self.getAge() < 10:\n",
    "            print(\"Puppy\")\n",
    "sam = Dog()\n",
    "sam.printInfo()"
   ]
  },
  {
   "cell_type": "code",
   "execution_count": 16,
   "metadata": {},
   "outputs": [
    {
     "name": "stdout",
     "output_type": "stream",
     "text": [
      "This is a dog class\n"
     ]
    }
   ],
   "source": [
    "# using magic methods\n",
    "class Dog( ):\n",
    "    def __str__(self):\n",
    "        return \"This is a dog class\"\n",
    "sam = Dog( )\n",
    "print(sam) # will print the return of the string magic method"
   ]
  },
  {
   "cell_type": "markdown",
   "metadata": {},
   "source": [
    "## Inheritance"
   ]
  },
  {
   "cell_type": "code",
   "execution_count": 17,
   "metadata": {},
   "outputs": [
    {
     "name": "stdout",
     "output_type": "stream",
     "text": [
      "roar\n"
     ]
    }
   ],
   "source": [
    "# inheriting a class and accessing the inherited method\n",
    "class Animal( ):\n",
    "    def makeSound(self):\n",
    "        print(\"roar\")\n",
    "class Dog(Animal): # inheriting Animal class\n",
    "    species = \"Canine\"\n",
    "sam = Dog( )\n",
    "sam.makeSound( ) # accessible through inheritance\n",
    "lion = Animal( )\n",
    "# lion.species not accessible, inheritance does not work backwards"
   ]
  },
  {
   "cell_type": "code",
   "execution_count": 19,
   "metadata": {},
   "outputs": [
    {
     "name": "stdout",
     "output_type": "stream",
     "text": [
      "Canine\n"
     ]
    }
   ],
   "source": [
    "# using the super( ) method to declare inherited attributes\n",
    "class Animal( ):\n",
    "    def __init__(self, species):\n",
    "        self.species = species\n",
    "class Dog(Animal):\n",
    "    def __init__(self, species, name):\n",
    "        self.name = name\n",
    "        super( ).__init__(species) # using super to declare the species attribute defined in Animal\n",
    "sam = Dog(\"Canine\", \"Sammi\")\n",
    "print(sam.species)"
   ]
  },
  {
   "cell_type": "code",
   "execution_count": 20,
   "metadata": {},
   "outputs": [
    {
     "name": "stdout",
     "output_type": "stream",
     "text": [
      "bark\n",
      "roar\n"
     ]
    }
   ],
   "source": [
    "# overriding methods defined in the superclass\n",
    "class Animal( ):\n",
    "    def makeSound(self):\n",
    "        print(\"roar\")\n",
    "class Dog(Animal):\n",
    "    def makeSound(self):\n",
    "        print(\"bark\")\n",
    "sam, lion = Dog( ), Animal( ) # declaring multiple variables on a single line\n",
    "sam.makeSound( ) # overriding will call the makeSound method in Dog\n",
    "lion.makeSound( ) # no overriding occurs as Animal does not inherit anything"
   ]
  },
  {
   "cell_type": "code",
   "execution_count": 21,
   "metadata": {},
   "outputs": [
    {
     "name": "stdout",
     "output_type": "stream",
     "text": [
      "9.8 Ford\n"
     ]
    }
   ],
   "source": [
    "# how to inherit multiple classes\n",
    "class Physics( ):\n",
    "    gravity = 9.8\n",
    "class Automobile( ):\n",
    "    def __init__(self, make, model, year):\n",
    "        self.make, self.model, self.year = make, model, year\n",
    "# declaring all attributes on one line\n",
    "class Ford(Physics, Automobile): # able to access Physics and Automobile attributes and methods\n",
    "    def __init__(self, model, year):\n",
    "        Automobile.__init__(self, \"Ford\", model, year) # super does not work with multiple\n",
    "truck = Ford(\"F-150\", 2018)\n",
    "print(truck.gravity, truck.make) # output both attributes"
   ]
  },
  {
   "cell_type": "code",
   "execution_count": 28,
   "metadata": {},
   "outputs": [
    {
     "name": "stdout",
     "output_type": "stream",
     "text": [
      "Hello my name is Max and I'm in good guys\n",
      "Hello my name is Poul and I'm in bad guys\n"
     ]
    }
   ],
   "source": [
    "# exercise\n",
    "class Characters():\n",
    "    def __init__(self, name, height, weight):\n",
    "        self.name, self.height, self.weight = name, height, weight\n",
    "    def sayHello(self):\n",
    "        print(f\"Hello my name is {self.name} and I'm in {self.team} guys\")\n",
    "\n",
    "class GoodPlayers(Characters):\n",
    "    team = \"good\"\n",
    "    \n",
    "class BadPlayers(Characters):\n",
    "    team = \"bad\"\n",
    "    \n",
    "maxim = GoodPlayers(\"Max\", \"180\", \"100\")\n",
    "poul = BadPlayers(\"Poul\", \"180\", \"100\")\n",
    "\n",
    "maxim.sayHello()\n",
    "poul.sayHello()"
   ]
  },
  {
   "cell_type": "markdown",
   "metadata": {},
   "source": [
    "## Friday Project: Creating Blackjack"
   ]
  },
  {
   "cell_type": "code",
   "execution_count": null,
   "metadata": {},
   "outputs": [],
   "source": []
  }
 ],
 "metadata": {
  "kernelspec": {
   "display_name": "Python 3",
   "language": "python",
   "name": "python3"
  },
  "language_info": {
   "codemirror_mode": {
    "name": "ipython",
    "version": 3
   },
   "file_extension": ".py",
   "mimetype": "text/x-python",
   "name": "python",
   "nbconvert_exporter": "python",
   "pygments_lexer": "ipython3",
   "version": "3.8.0"
  }
 },
 "nbformat": 4,
 "nbformat_minor": 4
}
